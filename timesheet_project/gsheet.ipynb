{
 "cells": [
  {
   "cell_type": "code",
   "execution_count": 17,
   "metadata": {},
   "outputs": [],
   "source": [
    "import pandas as pd\n",
    "import gspread\n",
    "from gspread_dataframe import set_with_dataframe\n",
    "from google.oauth2.service_account import Credentials\n",
    "from pydrive.auth import GoogleAuth\n",
    "from pydrive.drive import GoogleDrive\n",
    "scopes = ['https://www.googleapis.com/auth/spreadsheets',\n",
    "          'https://www.googleapis.com/auth/drive']\n",
    "\n",
    "credentials = Credentials.from_service_account_file('google_auth.json', scopes=scopes)\n",
    "\n",
    "gc = gspread.authorize(credentials)\n",
    "\n",
    "gauth = GoogleAuth()\n",
    "drive = GoogleDrive(gauth)\n",
    "key ='1KsKPHn5ZEK4bYJYkIQ6SND_Y4Sgqe1qwwuEFH6ec9YY'\n",
    "# open a google sheet\n",
    "gs = gc.open_by_key(key)\n",
    "# select a work sheet from its name\n",
    "worksheet1 = gs.worksheet('Sheet1')"
   ]
  },
  {
   "cell_type": "code",
   "execution_count": 16,
   "metadata": {},
   "outputs": [],
   "source": [
    "worksheet_name = 'Sheet1'\n",
    "\n",
    "existing_worksheet_list = gs.worksheets()\n",
    "existing_worksheet_titles = [i.title for i in existing_worksheet_list]\n",
    "if worksheet_name not in existing_worksheet_titles:\n",
    "    worksheet = gs.add_worksheet(worksheet_name, rows=\"100\", cols=\"20\")\n",
    "else:\n",
    "    worksheet = gs.worksheet(worksheet_name)\n",
    "    \n",
    "worksheet.clear()\n",
    "df = pd.DataFrame({'a': ['apple','airplane','alligator'], 'b': ['banana', 'ball', 'butterfly'], 'c': ['cantaloupe', 'crane', 'cat']})\n",
    "\n",
    "set_with_dataframe(\n",
    "    worksheet=worksheet,\n",
    "    dataframe=df,\n",
    "    include_index=False,\n",
    "    include_column_header=True,\n",
    "    resize=False\n",
    ")\n",
    "    "
   ]
  },
  {
   "cell_type": "code",
   "execution_count": 13,
   "metadata": {},
   "outputs": [
    {
     "data": {
      "text/plain": [
       "[<Worksheet 'raw' id:1538983604>, <Worksheet 'Sheet1' id:612947983>]"
      ]
     },
     "execution_count": 13,
     "metadata": {},
     "output_type": "execute_result"
    }
   ],
   "source": [
    "gs.worksheets()"
   ]
  },
  {
   "cell_type": "code",
   "execution_count": 12,
   "metadata": {},
   "outputs": [
    {
     "data": {
      "text/plain": [
       "{'spreadsheetId': '1KsKPHn5ZEK4bYJYkIQ6SND_Y4Sgqe1qwwuEFH6ec9YY',\n",
       " 'clearedRange': 'Sheet1!A1:Z1000'}"
      ]
     },
     "execution_count": 12,
     "metadata": {},
     "output_type": "execute_result"
    }
   ],
   "source": [
    "# dataframe (create or import it)\n",
    "df = pd.DataFrame({'a': ['apple','airplane','alligator'], 'b': ['banana', 'ball', 'butterfly'], 'c': ['cantaloupe', 'crane', 'cat']})\n",
    "# write to dataframe\n",
    "worksheet1.clear()\n",
    "set_with_dataframe(worksheet=worksheet1, dataframe=df, include_index=False,\n",
    "include_column_header=True, resize=True)"
   ]
  },
  {
   "cell_type": "code",
   "execution_count": 26,
   "metadata": {},
   "outputs": [],
   "source": [
    "import polars as pl\n",
    "employee_df = pl.read_excel('Test.xlsx', sheet_name='employee', schema_overrides={\"start_date\": pl.Date, 'end_date':pl.Date},)\n",
    "project_df = pl.read_excel('Test.xlsx', sheet_name='project', schema_overrides={\"dt\": pl.Date},)\n",
    "timesheet_df = pl.read_excel('Test.xlsx', sheet_name='timesheet', schema_overrides={\"dt\": pl.Date},)\n",
    "payroll_df = pl.read_excel('Test.xlsx', sheet_name='payroll', schema_overrides={\"dt\": pl.Date},)\n",
    "project_income_df = pl.read_excel('Test.xlsx', sheet_name='project_income', schema_overrides={\"dt\": pl.Date},)\n",
    "\n",
    "employee_df = employee_df\\\n",
    "    .rename({'id':'fk_employee_id_id'})\n",
    "    \n",
    "project_df = project_df\\\n",
    "    .rename({'id':'fk_project_id_id'})\n"
   ]
  },
  {
   "cell_type": "code",
   "execution_count": 27,
   "metadata": {},
   "outputs": [
    {
     "data": {
      "text/html": [
       "<div><style>\n",
       ".dataframe > thead > tr,\n",
       ".dataframe > tbody > tr {\n",
       "  text-align: right;\n",
       "  white-space: pre-wrap;\n",
       "}\n",
       "</style>\n",
       "<small>shape: (5, 9)</small><table border=\"1\" class=\"dataframe\"><thead><tr><th>fk_employee_id_id</th><th>employee_id</th><th>first_name</th><th>last_name</th><th>fk_position_id_id</th><th>gender</th><th>email_address</th><th>start_date</th><th>end_date</th></tr><tr><td>i64</td><td>str</td><td>str</td><td>str</td><td>i64</td><td>str</td><td>str</td><td>date</td><td>str</td></tr></thead><tbody><tr><td>1</td><td>&quot;TEST123&quot;</td><td>&quot;Ada&quot;</td><td>&quot;Thomsom&quot;</td><td>1</td><td>&quot;Female&quot;</td><td>&quot;test123@gmail.…</td><td>2020-10-01</td><td>null</td></tr><tr><td>2</td><td>&quot;TEST456&quot;</td><td>&quot;Bobby&quot;</td><td>&quot;Wood&quot;</td><td>2</td><td>&quot;Male&quot;</td><td>&quot;test456@gmail.…</td><td>2021-01-01</td><td>null</td></tr><tr><td>3</td><td>&quot;TEST789&quot;</td><td>&quot;Alissa&quot;</td><td>&quot;Goodman&quot;</td><td>3</td><td>&quot;Female&quot;</td><td>&quot;test789@gmail.…</td><td>2022-05-01</td><td>null</td></tr><tr><td>4</td><td>&quot;MY123&quot;</td><td>&quot;Lance&quot;</td><td>&quot;Bright&quot;</td><td>4</td><td>&quot;Male&quot;</td><td>&quot;my123@gmail.co…</td><td>2024-01-21</td><td>null</td></tr><tr><td>5</td><td>&quot;my124&quot;</td><td>&quot;Zoe&quot;</td><td>&quot;Dorsy&quot;</td><td>1</td><td>&quot;Female&quot;</td><td>&quot;my124@gmail.co…</td><td>2022-04-30</td><td>null</td></tr></tbody></table></div>"
      ],
      "text/plain": [
       "shape: (5, 9)\n",
       "┌────────────┬────────────┬────────────┬───────────┬───┬────────┬───────────┬───────────┬──────────┐\n",
       "│ fk_employe ┆ employee_i ┆ first_name ┆ last_name ┆ … ┆ gender ┆ email_add ┆ start_dat ┆ end_date │\n",
       "│ e_id_id    ┆ d          ┆ ---        ┆ ---       ┆   ┆ ---    ┆ ress      ┆ e         ┆ ---      │\n",
       "│ ---        ┆ ---        ┆ str        ┆ str       ┆   ┆ str    ┆ ---       ┆ ---       ┆ str      │\n",
       "│ i64        ┆ str        ┆            ┆           ┆   ┆        ┆ str       ┆ date      ┆          │\n",
       "╞════════════╪════════════╪════════════╪═══════════╪═══╪════════╪═══════════╪═══════════╪══════════╡\n",
       "│ 1          ┆ TEST123    ┆ Ada        ┆ Thomsom   ┆ … ┆ Female ┆ test123@g ┆ 2020-10-0 ┆ null     │\n",
       "│            ┆            ┆            ┆           ┆   ┆        ┆ mail.com  ┆ 1         ┆          │\n",
       "│ 2          ┆ TEST456    ┆ Bobby      ┆ Wood      ┆ … ┆ Male   ┆ test456@g ┆ 2021-01-0 ┆ null     │\n",
       "│            ┆            ┆            ┆           ┆   ┆        ┆ mail.com  ┆ 1         ┆          │\n",
       "│ 3          ┆ TEST789    ┆ Alissa     ┆ Goodman   ┆ … ┆ Female ┆ test789@g ┆ 2022-05-0 ┆ null     │\n",
       "│            ┆            ┆            ┆           ┆   ┆        ┆ mail.com  ┆ 1         ┆          │\n",
       "│ 4          ┆ MY123      ┆ Lance      ┆ Bright    ┆ … ┆ Male   ┆ my123@gma ┆ 2024-01-2 ┆ null     │\n",
       "│            ┆            ┆            ┆           ┆   ┆        ┆ il.com    ┆ 1         ┆          │\n",
       "│ 5          ┆ my124      ┆ Zoe        ┆ Dorsy     ┆ … ┆ Female ┆ my124@gma ┆ 2022-04-3 ┆ null     │\n",
       "│            ┆            ┆            ┆           ┆   ┆        ┆ il.com    ┆ 0         ┆          │\n",
       "└────────────┴────────────┴────────────┴───────────┴───┴────────┴───────────┴───────────┴──────────┘"
      ]
     },
     "execution_count": 27,
     "metadata": {},
     "output_type": "execute_result"
    }
   ],
   "source": [
    "employee_df"
   ]
  },
  {
   "cell_type": "code",
   "execution_count": 24,
   "metadata": {},
   "outputs": [
    {
     "data": {
      "text/html": [
       "<div><style>\n",
       ".dataframe > thead > tr,\n",
       ".dataframe > tbody > tr {\n",
       "  text-align: right;\n",
       "  white-space: pre-wrap;\n",
       "}\n",
       "</style>\n",
       "<small>shape: (4, 5)</small><table border=\"1\" class=\"dataframe\"><thead><tr><th>id</th><th>fk_employee_id_id</th><th>fk_project_id_id</th><th>date</th><th>duration</th></tr><tr><td>i64</td><td>i64</td><td>i64</td><td>str</td><td>i64</td></tr></thead><tbody><tr><td>1</td><td>1</td><td>1</td><td>&quot;2024-01-21&quot;</td><td>1</td></tr><tr><td>2</td><td>1</td><td>1</td><td>&quot;2023-12-01&quot;</td><td>5</td></tr><tr><td>3</td><td>3</td><td>4</td><td>&quot;2024-01-01&quot;</td><td>10</td></tr><tr><td>4</td><td>5</td><td>4</td><td>&quot;2024-01-02&quot;</td><td>29</td></tr></tbody></table></div>"
      ],
      "text/plain": [
       "shape: (4, 5)\n",
       "┌─────┬───────────────────┬──────────────────┬────────────┬──────────┐\n",
       "│ id  ┆ fk_employee_id_id ┆ fk_project_id_id ┆ date       ┆ duration │\n",
       "│ --- ┆ ---               ┆ ---              ┆ ---        ┆ ---      │\n",
       "│ i64 ┆ i64               ┆ i64              ┆ str        ┆ i64      │\n",
       "╞═════╪═══════════════════╪══════════════════╪════════════╪══════════╡\n",
       "│ 1   ┆ 1                 ┆ 1                ┆ 2024-01-21 ┆ 1        │\n",
       "│ 2   ┆ 1                 ┆ 1                ┆ 2023-12-01 ┆ 5        │\n",
       "│ 3   ┆ 3                 ┆ 4                ┆ 2024-01-01 ┆ 10       │\n",
       "│ 4   ┆ 5                 ┆ 4                ┆ 2024-01-02 ┆ 29       │\n",
       "└─────┴───────────────────┴──────────────────┴────────────┴──────────┘"
      ]
     },
     "execution_count": 24,
     "metadata": {},
     "output_type": "execute_result"
    }
   ],
   "source": [
    "timesheet_df\n",
    "    "
   ]
  },
  {
   "cell_type": "code",
   "execution_count": 25,
   "metadata": {},
   "outputs": [
    {
     "data": {
      "text/html": [
       "<div><style>\n",
       ".dataframe > thead > tr,\n",
       ".dataframe > tbody > tr {\n",
       "  text-align: right;\n",
       "  white-space: pre-wrap;\n",
       "}\n",
       "</style>\n",
       "<small>shape: (4, 5)</small><table border=\"1\" class=\"dataframe\"><thead><tr><th>id</th><th>fk_employee_id_id</th><th>fk_project_id_id</th><th>date</th><th>duration</th></tr><tr><td>i64</td><td>i64</td><td>i64</td><td>str</td><td>i64</td></tr></thead><tbody><tr><td>1</td><td>1</td><td>1</td><td>&quot;2024-01-21&quot;</td><td>1</td></tr><tr><td>2</td><td>1</td><td>1</td><td>&quot;2023-12-01&quot;</td><td>5</td></tr><tr><td>3</td><td>3</td><td>4</td><td>&quot;2024-01-01&quot;</td><td>10</td></tr><tr><td>4</td><td>5</td><td>4</td><td>&quot;2024-01-02&quot;</td><td>29</td></tr></tbody></table></div>"
      ],
      "text/plain": [
       "shape: (4, 5)\n",
       "┌─────┬───────────────────┬──────────────────┬────────────┬──────────┐\n",
       "│ id  ┆ fk_employee_id_id ┆ fk_project_id_id ┆ date       ┆ duration │\n",
       "│ --- ┆ ---               ┆ ---              ┆ ---        ┆ ---      │\n",
       "│ i64 ┆ i64               ┆ i64              ┆ str        ┆ i64      │\n",
       "╞═════╪═══════════════════╪══════════════════╪════════════╪══════════╡\n",
       "│ 1   ┆ 1                 ┆ 1                ┆ 2024-01-21 ┆ 1        │\n",
       "│ 2   ┆ 1                 ┆ 1                ┆ 2023-12-01 ┆ 5        │\n",
       "│ 3   ┆ 3                 ┆ 4                ┆ 2024-01-01 ┆ 10       │\n",
       "│ 4   ┆ 5                 ┆ 4                ┆ 2024-01-02 ┆ 29       │\n",
       "└─────┴───────────────────┴──────────────────┴────────────┴──────────┘"
      ]
     },
     "execution_count": 25,
     "metadata": {},
     "output_type": "execute_result"
    }
   ],
   "source": [
    "timesheet_df"
   ]
  },
  {
   "cell_type": "code",
   "execution_count": 19,
   "metadata": {},
   "outputs": [
    {
     "ename": "InvalidOperationError",
     "evalue": "`round` operation not supported for dtype `str` (expected: date/datetime)",
     "output_type": "error",
     "traceback": [
      "\u001b[1;31m---------------------------------------------------------------------------\u001b[0m",
      "\u001b[1;31mInvalidOperationError\u001b[0m                     Traceback (most recent call last)",
      "Cell \u001b[1;32mIn[19], line 1\u001b[0m\n\u001b[1;32m----> 1\u001b[0m \u001b[43mtimesheet_df\u001b[49m\u001b[43m\\\u001b[49m\n\u001b[0;32m      2\u001b[0m \u001b[43m    \u001b[49m\u001b[38;5;241;43m.\u001b[39;49m\u001b[43mgroup_by\u001b[49m\u001b[43m(\u001b[49m\u001b[38;5;124;43m'\u001b[39;49m\u001b[38;5;124;43mfk_employee_id_id\u001b[39;49m\u001b[38;5;124;43m'\u001b[39;49m\u001b[43m,\u001b[49m\u001b[43m \u001b[49m\u001b[38;5;124;43m'\u001b[39;49m\u001b[38;5;124;43mfk_project_id_id\u001b[39;49m\u001b[38;5;124;43m'\u001b[39;49m\u001b[43m,\u001b[49m\u001b[43m \u001b[49m\u001b[43mpl\u001b[49m\u001b[38;5;241;43m.\u001b[39;49m\u001b[43mcol\u001b[49m\u001b[43m(\u001b[49m\u001b[38;5;124;43m'\u001b[39;49m\u001b[38;5;124;43mdate\u001b[39;49m\u001b[38;5;124;43m'\u001b[39;49m\u001b[43m)\u001b[49m\u001b[38;5;241;43m.\u001b[39;49m\u001b[43mdt\u001b[49m\u001b[38;5;241;43m.\u001b[39;49m\u001b[43mtruncate\u001b[49m\u001b[43m(\u001b[49m\u001b[38;5;124;43m'\u001b[39;49m\u001b[38;5;124;43mmonth\u001b[39;49m\u001b[38;5;124;43m'\u001b[39;49m\u001b[43m)\u001b[49m\u001b[38;5;241;43m.\u001b[39;49m\u001b[43malias\u001b[49m\u001b[43m(\u001b[49m\u001b[38;5;124;43m'\u001b[39;49m\u001b[38;5;124;43mmonth\u001b[39;49m\u001b[38;5;124;43m'\u001b[39;49m\u001b[43m)\u001b[49m\u001b[43m)\u001b[49m\u001b[43m\\\u001b[49m\n\u001b[0;32m      3\u001b[0m \u001b[43m    \u001b[49m\u001b[38;5;241;43m.\u001b[39;49m\u001b[43magg\u001b[49m\u001b[43m(\u001b[49m\n\u001b[0;32m      4\u001b[0m \u001b[43m        \u001b[49m\u001b[43mpl\u001b[49m\u001b[38;5;241;43m.\u001b[39;49m\u001b[43msum\u001b[49m\u001b[43m(\u001b[49m\u001b[38;5;124;43m'\u001b[39;49m\u001b[38;5;124;43mduration\u001b[39;49m\u001b[38;5;124;43m'\u001b[39;49m\u001b[43m)\u001b[49m\n\u001b[0;32m      5\u001b[0m \u001b[43m    \u001b[49m\u001b[43m)\u001b[49m\n",
      "File \u001b[1;32mc:\\Users\\zongk\\Desktop\\Project\\ah_yin_jie_jie_project\\web_dev\\timesheet_env\\lib\\site-packages\\polars\\dataframe\\group_by.py:244\u001b[0m, in \u001b[0;36mGroupBy.agg\u001b[1;34m(self, *aggs, **named_aggs)\u001b[0m\n\u001b[0;32m    138\u001b[0m \u001b[38;5;28;01mdef\u001b[39;00m \u001b[38;5;21magg\u001b[39m(\n\u001b[0;32m    139\u001b[0m     \u001b[38;5;28mself\u001b[39m,\n\u001b[0;32m    140\u001b[0m     \u001b[38;5;241m*\u001b[39maggs: IntoExpr \u001b[38;5;241m|\u001b[39m Iterable[IntoExpr],\n\u001b[0;32m    141\u001b[0m     \u001b[38;5;241m*\u001b[39m\u001b[38;5;241m*\u001b[39mnamed_aggs: IntoExpr,\n\u001b[0;32m    142\u001b[0m ) \u001b[38;5;241m-\u001b[39m\u001b[38;5;241m>\u001b[39m DataFrame:\n\u001b[0;32m    143\u001b[0m \u001b[38;5;250m    \u001b[39m\u001b[38;5;124;03m\"\"\"\u001b[39;00m\n\u001b[0;32m    144\u001b[0m \u001b[38;5;124;03m    Compute aggregations for each group of a group by operation.\u001b[39;00m\n\u001b[0;32m    145\u001b[0m \n\u001b[1;32m   (...)\u001b[0m\n\u001b[0;32m    241\u001b[0m \u001b[38;5;124;03m    └─────┴───────┴────────────────┘\u001b[39;00m\n\u001b[0;32m    242\u001b[0m \u001b[38;5;124;03m    \"\"\"\u001b[39;00m\n\u001b[0;32m    243\u001b[0m     \u001b[38;5;28;01mreturn\u001b[39;00m (\n\u001b[1;32m--> 244\u001b[0m         \u001b[38;5;28;43mself\u001b[39;49m\u001b[38;5;241;43m.\u001b[39;49m\u001b[43mdf\u001b[49m\u001b[38;5;241;43m.\u001b[39;49m\u001b[43mlazy\u001b[49m\u001b[43m(\u001b[49m\u001b[43m)\u001b[49m\n\u001b[0;32m    245\u001b[0m \u001b[43m        \u001b[49m\u001b[38;5;241;43m.\u001b[39;49m\u001b[43mgroup_by\u001b[49m\u001b[43m(\u001b[49m\u001b[38;5;28;43mself\u001b[39;49m\u001b[38;5;241;43m.\u001b[39;49m\u001b[43mby\u001b[49m\u001b[43m,\u001b[49m\u001b[43m \u001b[49m\u001b[38;5;241;43m*\u001b[39;49m\u001b[38;5;28;43mself\u001b[39;49m\u001b[38;5;241;43m.\u001b[39;49m\u001b[43mmore_by\u001b[49m\u001b[43m,\u001b[49m\u001b[43m \u001b[49m\u001b[43mmaintain_order\u001b[49m\u001b[38;5;241;43m=\u001b[39;49m\u001b[38;5;28;43mself\u001b[39;49m\u001b[38;5;241;43m.\u001b[39;49m\u001b[43mmaintain_order\u001b[49m\u001b[43m)\u001b[49m\n\u001b[0;32m    246\u001b[0m \u001b[43m        \u001b[49m\u001b[38;5;241;43m.\u001b[39;49m\u001b[43magg\u001b[49m\u001b[43m(\u001b[49m\u001b[38;5;241;43m*\u001b[39;49m\u001b[43maggs\u001b[49m\u001b[43m,\u001b[49m\u001b[43m \u001b[49m\u001b[38;5;241;43m*\u001b[39;49m\u001b[38;5;241;43m*\u001b[39;49m\u001b[43mnamed_aggs\u001b[49m\u001b[43m)\u001b[49m\n\u001b[0;32m    247\u001b[0m \u001b[43m        \u001b[49m\u001b[38;5;241;43m.\u001b[39;49m\u001b[43mcollect\u001b[49m\u001b[43m(\u001b[49m\u001b[43mno_optimization\u001b[49m\u001b[38;5;241;43m=\u001b[39;49m\u001b[38;5;28;43;01mTrue\u001b[39;49;00m\u001b[43m)\u001b[49m\n\u001b[0;32m    248\u001b[0m     )\n",
      "File \u001b[1;32mc:\\Users\\zongk\\Desktop\\Project\\ah_yin_jie_jie_project\\web_dev\\timesheet_env\\lib\\site-packages\\polars\\lazyframe\\frame.py:1730\u001b[0m, in \u001b[0;36mLazyFrame.collect\u001b[1;34m(self, type_coercion, predicate_pushdown, projection_pushdown, simplify_expression, slice_pushdown, comm_subplan_elim, comm_subexpr_elim, no_optimization, streaming, background, _eager)\u001b[0m\n\u001b[0;32m   1727\u001b[0m \u001b[38;5;28;01mif\u001b[39;00m background:\n\u001b[0;32m   1728\u001b[0m     \u001b[38;5;28;01mreturn\u001b[39;00m InProcessQuery(ldf\u001b[38;5;241m.\u001b[39mcollect_concurrently())\n\u001b[1;32m-> 1730\u001b[0m \u001b[38;5;28;01mreturn\u001b[39;00m wrap_df(\u001b[43mldf\u001b[49m\u001b[38;5;241;43m.\u001b[39;49m\u001b[43mcollect\u001b[49m\u001b[43m(\u001b[49m\u001b[43m)\u001b[49m)\n",
      "\u001b[1;31mInvalidOperationError\u001b[0m: `round` operation not supported for dtype `str` (expected: date/datetime)"
     ]
    }
   ],
   "source": [
    "timesheet_df\\\n",
    "    .group_by('fk_employee_id_id', 'fk_project_id_id', pl.col('date').dt.truncate('month').alias('month'))\\\n",
    "    .agg(\n",
    "        pl.sum('duration')\n",
    "    )"
   ]
  },
  {
   "cell_type": "code",
   "execution_count": 3,
   "metadata": {},
   "outputs": [
    {
     "data": {
      "text/html": [
       "<div><style>\n",
       ".dataframe > thead > tr,\n",
       ".dataframe > tbody > tr {\n",
       "  text-align: right;\n",
       "  white-space: pre-wrap;\n",
       "}\n",
       "</style>\n",
       "<small>shape: (90, 18)</small><table border=\"1\" class=\"dataframe\"><thead><tr><th>PROJECT NAME</th><th>JOB CODE</th><th>Anwar</th><th>Ramzi</th><th>Caleb</th><th>Luqman</th><th>Lewis</th><th>Gordon</th><th>Nadzrul</th><th>Jayden</th><th>Feifei</th><th>Tanjit Sua</th><th>Thomas</th><th>Nazeri</th><th>M.Azri</th><th>Khoon</th><th>Roniy</th><th>TOTAL HOURS</th></tr><tr><td>str</td><td>str</td><td>i64</td><td>i64</td><td>i64</td><td>i64</td><td>i64</td><td>i64</td><td>i64</td><td>i64</td><td>f64</td><td>i64</td><td>i64</td><td>i64</td><td>i64</td><td>i64</td><td>i64</td><td>f64</td></tr></thead><tbody><tr><td>&quot;YTL HQ (BB Tow…</td><td>&quot;BFG165&quot;</td><td>0</td><td>0</td><td>0</td><td>0</td><td>0</td><td>0</td><td>0</td><td>0</td><td>0.0</td><td>0</td><td>0</td><td>0</td><td>0</td><td>0</td><td>0</td><td>0.0</td></tr><tr><td>&quot;Bangunan PAK, …</td><td>&quot;BFG190&quot;</td><td>0</td><td>0</td><td>0</td><td>0</td><td>0</td><td>0</td><td>0</td><td>0</td><td>0.0</td><td>0</td><td>0</td><td>0</td><td>0</td><td>0</td><td>0</td><td>0.0</td></tr><tr><td>&quot;BB Plaza&quot;</td><td>&quot;BFG191&quot;</td><td>0</td><td>0</td><td>0</td><td>0</td><td>0</td><td>0</td><td>0</td><td>0</td><td>0.0</td><td>0</td><td>0</td><td>0</td><td>0</td><td>0</td><td>0</td><td>0.0</td></tr><tr><td>&quot;TRX Residensi&quot;</td><td>&quot;BFG202&quot;</td><td>0</td><td>0</td><td>0</td><td>2</td><td>0</td><td>0</td><td>0</td><td>0</td><td>0.0</td><td>0</td><td>0</td><td>0</td><td>0</td><td>0</td><td>0</td><td>2.0</td></tr><tr><td>&quot;TRX Residensi …</td><td>&quot;BFG202A&quot;</td><td>0</td><td>0</td><td>0</td><td>0</td><td>0</td><td>0</td><td>0</td><td>0</td><td>0.0</td><td>200</td><td>0</td><td>0</td><td>0</td><td>0</td><td>0</td><td>200.0</td></tr><tr><td>&quot;TRX Residensi …</td><td>&quot;BFG202C&quot;</td><td>0</td><td>216</td><td>0</td><td>0</td><td>0</td><td>0</td><td>0</td><td>0</td><td>0.0</td><td>0</td><td>0</td><td>32</td><td>0</td><td>0</td><td>0</td><td>248.0</td></tr><tr><td>&quot;KLEC VS2 - The…</td><td>&quot;BFGMY001B&quot;</td><td>0</td><td>0</td><td>0</td><td>0</td><td>0</td><td>0</td><td>0</td><td>0</td><td>0.0</td><td>0</td><td>0</td><td>0</td><td>0</td><td>0</td><td>0</td><td>0.0</td></tr><tr><td>&quot;KLEC VS3 - The…</td><td>&quot;BFGMY001A&quot;</td><td>0</td><td>0</td><td>0</td><td>0</td><td>0</td><td>0</td><td>0</td><td>0</td><td>0.0</td><td>0</td><td>0</td><td>0</td><td>0</td><td>0</td><td>0</td><td>0.0</td></tr><tr><td>&quot;KLEC OT1&quot;</td><td>&quot;BFGMY001C&quot;</td><td>0</td><td>0</td><td>0</td><td>0</td><td>0</td><td>0</td><td>84</td><td>0</td><td>0.0</td><td>0</td><td>0</td><td>0</td><td>0</td><td>0</td><td>0</td><td>84.0</td></tr><tr><td>&quot;WNB HAUS, PNG&quot;</td><td>&quot;BFGMY003&quot;</td><td>0</td><td>0</td><td>0</td><td>0</td><td>0</td><td>0</td><td>0</td><td>0</td><td>0.0</td><td>0</td><td>0</td><td>0</td><td>0</td><td>0</td><td>0</td><td>0.0</td></tr><tr><td>&quot;FACE 2&quot;</td><td>&quot;BFGMY005&quot;</td><td>0</td><td>0</td><td>0</td><td>0</td><td>0</td><td>0</td><td>0</td><td>0</td><td>0.0</td><td>0</td><td>0</td><td>0</td><td>0</td><td>0</td><td>0</td><td>0.0</td></tr><tr><td>&quot;LINCOLN SQUARE…</td><td>&quot;BFGMY006e&quot;</td><td>0</td><td>0</td><td>0</td><td>0</td><td>0</td><td>0</td><td>0</td><td>0</td><td>0.0</td><td>0</td><td>0</td><td>0</td><td>0</td><td>0</td><td>0</td><td>0.0</td></tr><tr><td>&hellip;</td><td>&hellip;</td><td>&hellip;</td><td>&hellip;</td><td>&hellip;</td><td>&hellip;</td><td>&hellip;</td><td>&hellip;</td><td>&hellip;</td><td>&hellip;</td><td>&hellip;</td><td>&hellip;</td><td>&hellip;</td><td>&hellip;</td><td>&hellip;</td><td>&hellip;</td><td>&hellip;</td><td>&hellip;</td></tr><tr><td>&quot;Bulim Plot 7~9…</td><td>&quot;SG003&quot;</td><td>0</td><td>0</td><td>0</td><td>8</td><td>0</td><td>0</td><td>0</td><td>0</td><td>0.0</td><td>0</td><td>0</td><td>0</td><td>0</td><td>0</td><td>0</td><td>8.0</td></tr><tr><td>&quot;Bulim Lot 0205…</td><td>&quot;SG004&quot;</td><td>0</td><td>0</td><td>0</td><td>0</td><td>0</td><td>0</td><td>0</td><td>0</td><td>0.0</td><td>0</td><td>0</td><td>0</td><td>0</td><td>0</td><td>0</td><td>0.0</td></tr><tr><td>&quot;ATJ&quot;</td><td>&quot;BFGMYATJ&quot;</td><td>0</td><td>0</td><td>4</td><td>0</td><td>0</td><td>0</td><td>0</td><td>8</td><td>0.0</td><td>0</td><td>0</td><td>0</td><td>0</td><td>0</td><td>0</td><td>12.0</td></tr><tr><td>&quot;ATJ-Team Keris…</td><td>&quot;BFGMYATJ&quot;</td><td>0</td><td>0</td><td>0</td><td>0</td><td>0</td><td>0</td><td>0</td><td>0</td><td>0.0</td><td>0</td><td>0</td><td>0</td><td>0</td><td>0</td><td>0</td><td>0.0</td></tr><tr><td>&quot;MARKETING&quot;</td><td>&quot;A2&quot;</td><td>0</td><td>0</td><td>2</td><td>0</td><td>4</td><td>0</td><td>0</td><td>0</td><td>0.0</td><td>0</td><td>0</td><td>0</td><td>0</td><td>0</td><td>0</td><td>6.0</td></tr><tr><td>&quot;Training In-Ho…</td><td>&quot;A3&quot;</td><td>0</td><td>0</td><td>0</td><td>0</td><td>6</td><td>0</td><td>0</td><td>0</td><td>0.0</td><td>0</td><td>0</td><td>0</td><td>0</td><td>0</td><td>0</td><td>6.0</td></tr><tr><td>&quot;Admin&quot;</td><td>&quot;A4&quot;</td><td>1</td><td>0</td><td>0</td><td>0</td><td>10</td><td>0</td><td>0</td><td>0</td><td>1.0</td><td>0</td><td>0</td><td>0</td><td>0</td><td>0</td><td>0</td><td>12.0</td></tr><tr><td>&quot;Public Holiday…</td><td>&quot;A5&quot;</td><td>16</td><td>16</td><td>16</td><td>8</td><td>16</td><td>16</td><td>16</td><td>16</td><td>16.0</td><td>16</td><td>0</td><td>16</td><td>16</td><td>0</td><td>16</td><td>200.0</td></tr><tr><td>&quot;Annual Leave /…</td><td>&quot;A6&quot;</td><td>0</td><td>0</td><td>56</td><td>16</td><td>0</td><td>16</td><td>0</td><td>16</td><td>0.0</td><td>0</td><td>0</td><td>16</td><td>8</td><td>0</td><td>0</td><td>128.0</td></tr><tr><td>&quot;MC&quot;</td><td>&quot;A7&quot;</td><td>0</td><td>0</td><td>0</td><td>0</td><td>16</td><td>0</td><td>0</td><td>0</td><td>0.0</td><td>0</td><td>0</td><td>8</td><td>0</td><td>0</td><td>0</td><td>24.0</td></tr><tr><td>&quot;Training Suppl…</td><td>&quot;A8&quot;</td><td>0</td><td>0</td><td>0</td><td>0</td><td>0</td><td>0</td><td>0</td><td>0</td><td>1.0</td><td>0</td><td>0</td><td>0</td><td>0</td><td>0</td><td>0</td><td>1.0</td></tr><tr><td>null</td><td>&quot;Total&quot;</td><td>184</td><td>232</td><td>187</td><td>184</td><td>192</td><td>184</td><td>184</td><td>184</td><td>184.0</td><td>216</td><td>0</td><td>184</td><td>216</td><td>0</td><td>192</td><td>2523.0</td></tr></tbody></table></div>"
      ],
      "text/plain": [
       "shape: (90, 18)\n",
       "┌────────────────────────────┬──────────┬───────┬───────┬───┬────────┬───────┬───────┬─────────────┐\n",
       "│ PROJECT NAME               ┆ JOB CODE ┆ Anwar ┆ Ramzi ┆ … ┆ M.Azri ┆ Khoon ┆ Roniy ┆ TOTAL HOURS │\n",
       "│ ---                        ┆ ---      ┆ ---   ┆ ---   ┆   ┆ ---    ┆ ---   ┆ ---   ┆ ---         │\n",
       "│ str                        ┆ str      ┆ i64   ┆ i64   ┆   ┆ i64    ┆ i64   ┆ i64   ┆ f64         │\n",
       "╞════════════════════════════╪══════════╪═══════╪═══════╪═══╪════════╪═══════╪═══════╪═════════════╡\n",
       "│ YTL HQ (BB Tower) KL       ┆ BFG165   ┆ 0     ┆ 0     ┆ … ┆ 0      ┆ 0     ┆ 0     ┆ 0.0         │\n",
       "│ Bangunan PAK, Brickfields  ┆ BFG190   ┆ 0     ┆ 0     ┆ … ┆ 0      ┆ 0     ┆ 0     ┆ 0.0         │\n",
       "│ KL                         ┆          ┆       ┆       ┆   ┆        ┆       ┆       ┆             │\n",
       "│ BB Plaza                   ┆ BFG191   ┆ 0     ┆ 0     ┆ … ┆ 0      ┆ 0     ┆ 0     ┆ 0.0         │\n",
       "│ TRX Residensi              ┆ BFG202   ┆ 0     ┆ 0     ┆ … ┆ 0      ┆ 0     ┆ 0     ┆ 2.0         │\n",
       "│ TRX Residensi - JitSua     ┆ BFG202A  ┆ 0     ┆ 0     ┆ … ┆ 0      ┆ 0     ┆ 0     ┆ 200.0       │\n",
       "│ …                          ┆ …        ┆ …     ┆ …     ┆ … ┆ …      ┆ …     ┆ …     ┆ …           │\n",
       "│ Public Holiday             ┆ A5       ┆ 16    ┆ 16    ┆ … ┆ 16     ┆ 0     ┆ 16    ┆ 200.0       │\n",
       "│ Annual Leave /             ┆ A6       ┆ 0     ┆ 0     ┆ … ┆ 8      ┆ 0     ┆ 0     ┆ 128.0       │\n",
       "│ Timeoff/Vaccinati…         ┆          ┆       ┆       ┆   ┆        ┆       ┆       ┆             │\n",
       "│ MC                         ┆ A7       ┆ 0     ┆ 0     ┆ … ┆ 0      ┆ 0     ┆ 0     ┆ 24.0        │\n",
       "│ Training Supplier          ┆ A8       ┆ 0     ┆ 0     ┆ … ┆ 0      ┆ 0     ┆ 0     ┆ 1.0         │\n",
       "│ null                       ┆ Total    ┆ 184   ┆ 232   ┆ … ┆ 216    ┆ 0     ┆ 192   ┆ 2523.0      │\n",
       "└────────────────────────────┴──────────┴───────┴───────┴───┴────────┴───────┴───────┴─────────────┘"
      ]
     },
     "execution_count": 3,
     "metadata": {},
     "output_type": "execute_result"
    }
   ],
   "source": [
    "import polars as pl\n",
    "import polars.selectors as cs\n",
    "import pendulum\n",
    "\n",
    "file_name = 'Datapoint needed.xlsx'\n",
    "\n",
    "\n",
    "timesheet_january = pl.read_excel(file_name, sheet_name='timesheet_2024-01')\n",
    "\n",
    "timesheet_january"
   ]
  },
  {
   "cell_type": "code",
   "execution_count": null,
   "metadata": {},
   "outputs": [],
   "source": []
  }
 ],
 "metadata": {
  "kernelspec": {
   "display_name": "timesheet_env",
   "language": "python",
   "name": "python3"
  },
  "language_info": {
   "codemirror_mode": {
    "name": "ipython",
    "version": 3
   },
   "file_extension": ".py",
   "mimetype": "text/x-python",
   "name": "python",
   "nbconvert_exporter": "python",
   "pygments_lexer": "ipython3",
   "version": "3.9.10"
  }
 },
 "nbformat": 4,
 "nbformat_minor": 2
}
