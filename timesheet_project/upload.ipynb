{
 "cells": [
  {
   "cell_type": "code",
   "execution_count": 1,
   "metadata": {},
   "outputs": [],
   "source": [
    "import polars as pl\n",
    "file_name = 'Datapoint needed.xlsx'\n",
    "position_sheet = pl.read_excel(file_name, sheet_name='position')\n",
    "employee_sheet = pl.read_excel(file_name, sheet_name='employee')\n",
    "salary_record_sheeet = pl.read_excel(file_name, sheet_name='salary_record')\n",
    "\n",
    "department_df = position_sheet\\\n",
    "    .select('department')\\\n",
    "    .unique()\n",
    "    \n",
    "position_df = employee_sheet\\\n",
    "    .filter(\n",
    "        pl.col('Staff ID').is_not_null()\n",
    "    )\\\n",
    "    .select('position')\\\n",
    "    .unique()\n",
    "\n",
    "employee_df = employee_sheet\\\n",
    "    .filter(\n",
    "        pl.col('Staff ID').is_not_null()\n",
    "    )\\\n",
    "    .join(\n",
    "        position_sheet.rename({'position_name':'employee_code'}),\n",
    "        on='employee_code', how='left'\n",
    "    )\\\n",
    "    .select(\n",
    "        pl.col('Staff ID').alias('staff_id'),\n",
    "        'employee_code',\n",
    "        pl.col('last_name').alias('full_name'),\n",
    "        'position',\n",
    "        'department',\n",
    "        'email_address',\n",
    "        pl.col('start_date').str.replace_all('\"', '').str.to_date(format='%Y-%m-%d', strict=False),\n",
    "        pl.col('end_date').str.replace_all('\"', '').str.to_date(format='%Y-%m-%d', strict=False),\n",
    "    )\n"
   ]
  },
  {
   "cell_type": "code",
   "execution_count": 28,
   "metadata": {},
   "outputs": [],
   "source": [
    "import polars.selectors as cs\n",
    "import pendulum\n",
    "timesheet_january = pl.read_excel(file_name, sheet_name='timesheet_2024-01')\\\n",
    "    .melt(\n",
    "        id_vars=['PROJECT NAME', 'JOB CODE'],\n",
    "        value_vars=cs.numeric(),\n",
    "        variable_name='employee_code',\n",
    "        value_name='duration'\n",
    "    )\\\n",
    "    .select(\n",
    "        pl.col('JOB CODE').alias('project_code'),\n",
    "        'employee_code',\n",
    "        'duration'\n",
    "    )\\\n",
    "    .join(employee_df.select('employee_code'), on='employee_code')\\\n",
    "    .join(project_df.select('project_code'), on='project_code')\\\n",
    "    .with_columns(pl.lit(pendulum.parse('2024-01-01').date()).alias('month'))\n",
    "    \n",
    "    \n",
    "timesheet_february = pl.read_excel(file_name, sheet_name='timesheet_2024-02')\\\n",
    "    .melt(\n",
    "        id_vars=['PROJECT NAME', 'JOB CODE'],\n",
    "        value_vars=cs.numeric(),\n",
    "        variable_name='employee_code',\n",
    "        value_name='duration'\n",
    "    )\\\n",
    "    .select(\n",
    "        pl.col('JOB CODE').alias('project_code'),\n",
    "        'employee_code',\n",
    "        pl.col('duration').cast(pl.Float64)\n",
    "    )\\\n",
    "    .join(employee_df.select('employee_code'), on='employee_code')\\\n",
    "    .join(project_df.select('project_code'), on='project_code')\\\n",
    "    .with_columns(pl.lit(pendulum.parse('2024-02-01').date()).alias('month'))\n",
    "\n",
    "    \n",
    "timesheet_df = pl.concat([timesheet_january, timesheet_february])\\\n",
    "    .filter(pl.col('duration') > 0)"
   ]
  },
  {
   "cell_type": "code",
   "execution_count": 12,
   "metadata": {},
   "outputs": [],
   "source": [
    "company_sheet = pl.read_excel(file_name, sheet_name='customer')\n",
    "\n",
    "\n",
    "project_cleaned_sheet = pl.read_excel(file_name, sheet_name='project_cleaned')\\\n",
    "    .with_columns(\n",
    "        pl.col('project_start_date').str.to_date(format='%d %b %Y', strict=False),\n",
    "        pl.col('project_end_date').str.to_date(format='%d %b %Y', strict=False),\n",
    "        pl.col('phase_start_date').str.to_date(format='%d %b %Y', strict=False),\n",
    "        pl.col('phase_end_date').str.to_date(format='%d %b %Y', strict=False),\n",
    "    )\n",
    "    \n",
    "    \n",
    "company_df = project_cleaned_sheet\\\n",
    "    .select(\n",
    "        'company_name'\n",
    "    )\\\n",
    "    .unique()\n",
    "\n",
    "project_df = project_cleaned_sheet\\\n",
    "    .group_by(\n",
    "        'project_code',\n",
    "        'project_manager',\n",
    "        'project_start_date',\n",
    "        'project_end_date',\n",
    "        'company_name',\n",
    "    )\\\n",
    "    .agg(pl.sum('Original_project_fee').alias('original_project_fee'))\n",
    "    \n",
    "    \n",
    "project_phase_df = project_cleaned_sheet\\\n",
    "    .select(\n",
    "        'project_code',\n",
    "        'phase_name',\n",
    "        'phase_start_date',\n",
    "        'phase_end_date',\n",
    "        pl.col('project_status').alias('phase_status'),\n",
    "        pl.col('Original_project_fee').alias('phase_fee'),\n",
    "        pl.col('Additional_fee').alias('phase_additional_fee'),\n",
    "        pl.col('On-Hold_FEE').alias('on_hold_fee'),\n",
    "        pl.col('Termination/ Cancellation FEE').alias('cancellation_fee'),\n",
    "        pl.col('notes').alias('notes')\n",
    "    )\n",
    "        "
   ]
  },
  {
   "cell_type": "code",
   "execution_count": 29,
   "metadata": {},
   "outputs": [
    {
     "data": {
      "text/html": [
       "<div><style>\n",
       ".dataframe > thead > tr,\n",
       ".dataframe > tbody > tr {\n",
       "  text-align: right;\n",
       "  white-space: pre-wrap;\n",
       "}\n",
       "</style>\n",
       "<small>shape: (2, 4)</small><table border=\"1\" class=\"dataframe\"><thead><tr><th>invoice_no</th><th>payment_no</th><th>payment_date</th><th>amount</th></tr><tr><td>str</td><td>str</td><td>date</td><td>f64</td></tr></thead><tbody><tr><td>&quot;INV/BFGMY007/2…</td><td>&quot;RVC2403/01&quot;</td><td>2024-01-03</td><td>12500.0</td></tr><tr><td>&quot;INV/BFG202A/24…</td><td>&quot;RVC2402/07&quot;</td><td>2024-02-22</td><td>12707.5</td></tr></tbody></table></div>"
      ],
      "text/plain": [
       "shape: (2, 4)\n",
       "┌────────────────────┬────────────┬──────────────┬─────────┐\n",
       "│ invoice_no         ┆ payment_no ┆ payment_date ┆ amount  │\n",
       "│ ---                ┆ ---        ┆ ---          ┆ ---     │\n",
       "│ str                ┆ str        ┆ date         ┆ f64     │\n",
       "╞════════════════════╪════════════╪══════════════╪═════════╡\n",
       "│ INV/BFGMY007/24011 ┆ RVC2403/01 ┆ 2024-01-03   ┆ 12500.0 │\n",
       "│ INV/BFG202A/24011  ┆ RVC2402/07 ┆ 2024-02-22   ┆ 12707.5 │\n",
       "└────────────────────┴────────────┴──────────────┴─────────┘"
      ]
     },
     "execution_count": 29,
     "metadata": {},
     "output_type": "execute_result"
    }
   ],
   "source": [
    "\n",
    "project_income_sheet = pl.read_excel(file_name, sheet_name='project_income')\n",
    "\n",
    "project_invoice_df = project_income_sheet\\\n",
    "    .filter(pl.col('invoice_no').is_not_null())\\\n",
    "    .with_columns(\n",
    "        pl.col('invoice_date').str.replace_all('\"', '').str.to_date(format='%d/%m/%Y', strict=False),\n",
    "        pl.when(pl.col('is_cancelled') == 'No').then(pl.lit('no')).otherwise(pl.lit('yes')).alias('is_cancelled')\n",
    "    )\\\n",
    "    .rename({'amount_exclude_SST' : 'amount'})\n",
    "    \n",
    "\n",
    "\n",
    "project_payment_sheet = pl.read_excel(file_name, sheet_name='project_payment')\n",
    "project_payment_df = project_payment_sheet\\\n",
    "    .filter(pl.col('invoice_no').is_not_null())\\\n",
    "    .with_columns(\n",
    "        pl.col('payment_date').str.replace_all('\"', '').str.to_date(format='%d-%m-%Y', strict=False),\n",
    "    )\\\n",
    "    .rename({'payment_exclude SST':'amount'})\n",
    "\n",
    "project_payment_df\n",
    "\n"
   ]
  },
  {
   "cell_type": "code",
   "execution_count": 3,
   "metadata": {},
   "outputs": [],
   "source": [
    "payroll_sheet = pl.read_excel(file_name, sheet_name='payroll')\n",
    "\n",
    "payroll_df = payroll_sheet\\\n",
    "    .filter(pl.col('employee_code').is_not_null())\\\n",
    "    .with_columns(\n",
    "        pl.col('payroll_month').str.replace_all('\"', '').str.to_date(format='%Y-%m', strict=False),\n",
    "    )\n",
    "    \n"
   ]
  },
  {
   "cell_type": "code",
   "execution_count": 4,
   "metadata": {},
   "outputs": [],
   "source": [
    "import csv\n",
    "import sys, os\n",
    "sys.path.append('./timesheet_project')\n",
    "os.environ['DJANGO_SETTINGS_MODULE'] = 'settings'\n",
    "import django\n",
    "django.setup()"
   ]
  },
  {
   "cell_type": "code",
   "execution_count": 5,
   "metadata": {},
   "outputs": [],
   "source": [
    "from position.models import *\n",
    "from department.models import *\n",
    "from employee.models import *\n",
    "from company.models import *\n",
    "from project.models import *\n",
    "from project_income.models import *\n",
    "from payroll.models import *\n",
    "from timesheet_log.models import *\n",
    "\n",
    "for row in position_df.iter_rows(named=True):\n",
    "    Position.objects.create(\n",
    "        position = row[\"position\"],\n",
    "    )\n",
    "    \n",
    "    \n",
    "for row in department_df.iter_rows(named=True):\n",
    "    Department.objects.create(\n",
    "        name = row['department']\n",
    "    )\n",
    "    \n",
    "for row in employee_df.iter_rows(named=True):\n",
    "    Employee.objects.create(\n",
    "        staff_id = row['staff_id'],\n",
    "        employee_code = row['employee_code'],\n",
    "        full_name = row['full_name'],\n",
    "        fk_position_id = Position.objects.get(position=row['position']),\n",
    "        fk_department_id = Department.objects.get(name=row['department']),\n",
    "        email_address = row['email_address'],\n",
    "        start_date = row['start_date'],\n",
    "        end_date = row['end_date']\n",
    "    )\n",
    "    \n",
    "for row in company_df.iter_rows(named=True):\n",
    "    Company.objects.create(\n",
    "        company_name = row['company_name']\n",
    "    )\n",
    "    \n",
    "for row in project_df.iter_rows(named=True):\n",
    "    print(row)\n",
    "    Project.objects.create(\n",
    "        project_code = row['project_code'],\n",
    "        project_name = row['project_name'],\n",
    "        fk_company_id = Company.objects.get(company_name=row['company_name']),\n",
    "        start_date = row['project_start_date'],\n",
    "        end_date = row['project_end_date'],\n",
    "        original_project_fee = row['original_project_fee']\n",
    "    )\n",
    "\n",
    "phase_status_dictionary =    {\n",
    "    'pre_tender':'Pre-Tender',\n",
    "    'construction':'Construction',\n",
    "    'on_hold':'On Hold',\n",
    "    'final_fee_to_collect':'Final Fee to collect',\n",
    "    'completed':'Completed',\n",
    "    'adhoc': 'Ad-hoc'\n",
    "}\n",
    "\n",
    "\n",
    "# Combine Series into a DataFrame\n",
    "phase_status_dictionary_df = pl.DataFrame(\n",
    "    {'phase_status_final':phase_status_dictionary.keys(),\n",
    "     'phase_status':phase_status_dictionary.values()}\n",
    "    )\n",
    "\n",
    "project_phase_final_df = project_phase_df\\\n",
    "    .join(phase_status_dictionary_df, on='phase_status', how='left')\n",
    "    \n",
    "for row in project_phase_final_df.iter_rows(named=True):\n",
    "    ProjectPhase.objects.create(\n",
    "        fk_project_id = Project.objects.get(project_code=row['project_code']),\n",
    "        phase_name = row['phase_name'],\n",
    "        phase_start_date = row['phase_start_date'],\n",
    "        phase_end_date = row['phase_end_date'],\n",
    "        phase_status = row['phase_status_final'],\n",
    "        phase_fee = row['phase_fee'],\n",
    "        phase_additional_fee = row['phase_additional_fee'],\n",
    "        on_hold_fee = row['on_hold_fee'],\n",
    "        cancellation_fee = row['cancellation_fee'],\n",
    "        notes = row['notes'],\n",
    "    )\n",
    "\n",
    "for row in project_invoice_df.iter_rows(named=True):\n",
    "    ProjectInvoice.objects.create(\n",
    "        invoice_no = row['invoice_no'],\n",
    "        invoice_date = row['invoice_date'],\n",
    "        fk_project_id = Project.objects.get(project_code=row['project_code']),\n",
    "        amount = row['amount'],\n",
    "        is_cancelled = row['is_cancelled']\n",
    "    )\n",
    "    \n",
    "    \n",
    "for row in project_payment_df.iter_rows(named=True):\n",
    "    ProjectPayment.objects.create(\n",
    "        fk_invoice_id = ProjectInvoice.objects.get(invoice_no=row['invoice_no']),\n",
    "        payment_no = row['payment_no'],\n",
    "        payment_date = row['payment_date'],\n",
    "        amount = row['amount']\n",
    "        )\n",
    "\n",
    "\n",
    "for row in payroll_df.iter_rows(named=True):\n",
    "    Payroll.objects.create(\n",
    "        fk_employee_id = Employee.objects.get(employee_code=row['employee_code']),\n",
    "        date = row['payroll_month'],\n",
    "        amount = row['amount']\n",
    "    )"
   ]
  },
  {
   "cell_type": "code",
   "execution_count": 12,
   "metadata": {},
   "outputs": [
    {
     "name": "stdout",
     "output_type": "stream",
     "text": [
      "{'project_code': 'BFGMY001C', 'project_manager': 'Nadzrul', 'project_start_date': datetime.date(2017, 6, 16), 'project_end_date': None, 'company_name': 'KL Eco City Sdn Bhd', 'original_project_fee': 500000.0}\n"
     ]
    }
   ],
   "source": []
  },
  {
   "cell_type": "code",
   "execution_count": 13,
   "metadata": {},
   "outputs": [
    {
     "name": "stdout",
     "output_type": "stream",
     "text": [
      "{'project_code': 'BFG202', 'phase_name': 'TRX Residence Plot 1C', 'phase_start_date': datetime.date(2017, 4, 13), 'phase_end_date': datetime.date(2024, 12, 31), 'phase_status': 'Construction', 'phase_fee': 948000.0, 'phase_additional_fee': 60000.0, 'on_hold_fee': None, 'cancellation_fee': None, 'notes': None}\n"
     ]
    }
   ],
   "source": []
  },
  {
   "cell_type": "code",
   "execution_count": 31,
   "metadata": {},
   "outputs": [
    {
     "name": "stdout",
     "output_type": "stream",
     "text": [
      "{'invoice_no': 'INV/BFGMY027/24011', 'invoice_date': datetime.date(2024, 1, 15), 'project_code': 'BFGMY027', 'amount': 15000.0, 'is_cancelled': 'no'}\n"
     ]
    }
   ],
   "source": [
    "\n"
   ]
  },
  {
   "cell_type": "code",
   "execution_count": 22,
   "metadata": {},
   "outputs": [
    {
     "data": {
      "text/html": [
       "<div><style>\n",
       ".dataframe > thead > tr,\n",
       ".dataframe > tbody > tr {\n",
       "  text-align: right;\n",
       "  white-space: pre-wrap;\n",
       "}\n",
       "</style>\n",
       "<small>shape: (5, 2)</small><table border=\"1\" class=\"dataframe\"><thead><tr><th>keys</th><th>values</th></tr><tr><td>str</td><td>str</td></tr></thead><tbody><tr><td>&quot;pre_tender&quot;</td><td>&quot;Pre-Tender&quot;</td></tr><tr><td>&quot;construction&quot;</td><td>&quot;Construction&quot;</td></tr><tr><td>&quot;on_hold&quot;</td><td>&quot;On Hold&quot;</td></tr><tr><td>&quot;final_fee_to_c…</td><td>&quot;Final Fee to C…</td></tr><tr><td>&quot;completed&quot;</td><td>&quot;Completed&quot;</td></tr></tbody></table></div>"
      ],
      "text/plain": [
       "shape: (5, 2)\n",
       "┌──────────────────────┬──────────────────────┐\n",
       "│ keys                 ┆ values               │\n",
       "│ ---                  ┆ ---                  │\n",
       "│ str                  ┆ str                  │\n",
       "╞══════════════════════╪══════════════════════╡\n",
       "│ pre_tender           ┆ Pre-Tender           │\n",
       "│ construction         ┆ Construction         │\n",
       "│ on_hold              ┆ On Hold              │\n",
       "│ final_fee_to_collect ┆ Final Fee to Collect │\n",
       "│ completed            ┆ Completed            │\n",
       "└──────────────────────┴──────────────────────┘"
      ]
     },
     "execution_count": 22,
     "metadata": {},
     "output_type": "execute_result"
    }
   ],
   "source": []
  },
  {
   "cell_type": "code",
   "execution_count": 33,
   "metadata": {},
   "outputs": [
    {
     "name": "stdout",
     "output_type": "stream",
     "text": [
      "{'employee_code': 'Feifei', 'payroll_month': datetime.date(2024, 1, 1), 'amount': 10766.55}\n"
     ]
    }
   ],
   "source": []
  },
  {
   "cell_type": "code",
   "execution_count": null,
   "metadata": {},
   "outputs": [],
   "source": []
  }
 ],
 "metadata": {
  "kernelspec": {
   "display_name": "timesheet_env",
   "language": "python",
   "name": "python3"
  },
  "language_info": {
   "codemirror_mode": {
    "name": "ipython",
    "version": 3
   },
   "file_extension": ".py",
   "mimetype": "text/x-python",
   "name": "python",
   "nbconvert_exporter": "python",
   "pygments_lexer": "ipython3",
   "version": "3.9.10"
  }
 },
 "nbformat": 4,
 "nbformat_minor": 2
}
